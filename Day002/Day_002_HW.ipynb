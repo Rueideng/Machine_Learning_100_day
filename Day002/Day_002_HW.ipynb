{
 "cells": [
  {
   "cell_type": "code",
   "execution_count": null,
   "metadata": {},
   "outputs": [],
   "source": [
    "\"\"\"\n",
    "[作業目標]\n",
    "了解機器學習適合應用的領域與範疇。\n",
    "\n",
    "[作業重點]\n",
    "透過瞭解機器學習的運作方式，找出非常適用機器學習應用的領域及其原因\n",
    "\n",
    "作業\n",
    "請找出一個你認為機器學習可以發光發熱的領域並闡述原因?\n",
    "\n",
    "\"\"\""
   ]
  },
  {
   "cell_type": "code",
   "execution_count": null,
   "metadata": {},
   "outputs": [],
   "source": [
    "任何領域都可以發光發熱，沒有一定的領域，因為機器學習將節省許多時間，並精準預測、回應，可為各行各業發展出新的經營方式與節省成本。\n",
    "硬要說一個領域那應該是醫學，因為醫學方面使用影像辨識將可以縮短判別時間，可以在最短時間內迅速找出病因，在病情惡化前做出快速處理，在照顧病人上使用影像辨識與各種感應器感應病人狀況\n",
    "即時分析並提供處理方法，影響範圍至全世界。\n",
    "也可以迅速反應新病毒，建立檔案，並且ＡＩ機器學習分析，可快速縮短疫苗研發日期。"
   ]
  }
 ],
 "metadata": {
  "kernelspec": {
   "display_name": "Python 3",
   "language": "python",
   "name": "python3"
  },
  "language_info": {
   "codemirror_mode": {
    "name": "ipython",
    "version": 3
   },
   "file_extension": ".py",
   "mimetype": "text/x-python",
   "name": "python",
   "nbconvert_exporter": "python",
   "pygments_lexer": "ipython3",
   "version": "3.8.6"
  }
 },
 "nbformat": 4,
 "nbformat_minor": 4
}
